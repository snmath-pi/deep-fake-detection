{
 "cells": [
  {
   "cell_type": "code",
   "execution_count": 3,
   "id": "ea25bff1-0003-4a04-b11f-b9cd4cb2b7c2",
   "metadata": {},
   "outputs": [
    {
     "name": "stdout",
     "output_type": "stream",
     "text": [
      "Training set shape: (140002, 3)\n",
      "Validation set shape: (39428, 3)\n",
      "Test set shape: (10905, 3)\n"
     ]
    }
   ],
   "source": [
    "# Data Processing\n",
    "# 1. 10% of total data is separated to use as test-set\n",
    "\n",
    "# import pandas as pd\n",
    "# import os\n",
    "\n",
    "\n",
    "# df = pd.read_csv('Dataset')\n",
    "\n",
    "\n",
    "#Model and dataset by @Saksham Negi\n",
    "\n",
    "import os\n",
    "import pandas as pd\n",
    "from sklearn.model_selection import train_test_split\n",
    "from tensorflow.keras.preprocessing.image import ImageDataGenerator\n",
    "\n",
    "# Define the paths to the dataset directories\n",
    "dataset_dir = r'C:\\Users\\HP\\OneDrive\\Desktop\\MachineLearningProjects\\deepfake-detection\\Dataset'\n",
    "train_dir = os.path.join(dataset_dir, 'train')\n",
    "val_dir = os.path.join(dataset_dir, 'validation')\n",
    "test_dir = os.path.join(dataset_dir, 'test')\n",
    "\n",
    "# Initialize an empty list to store data\n",
    "data = []\n",
    "\n",
    "# Define the subdirectories for train, validation, and test images\n",
    "subdirs = {\n",
    "    'train': ['fake', 'real'],\n",
    "    'validation': ['fake', 'real'],\n",
    "    'test': ['fake', 'real']\n",
    "}\n",
    "\n",
    "# Iterate through the subdirectories and collect image paths and labels\n",
    "for set_type, classes in subdirs.items():\n",
    "    for cls in classes:\n",
    "        class_path = os.path.join(dataset_dir, set_type, cls)\n",
    "        if os.path.isdir(class_path):\n",
    "            for img_name in os.listdir(class_path):\n",
    "                img_path = os.path.join(class_path, img_name)\n",
    "                if os.path.isfile(img_path):\n",
    "                    data.append({'Data': img_path, 'Label': cls, 'set_type': set_type})\n",
    "\n",
    "# Create a DataFrame from the collected data\n",
    "df = pd.DataFrame(data)\n",
    "\n",
    "# Split the data into training, validation, and test sets\n",
    "train_df = df[df['set_type'] == 'train']\n",
    "val_df = df[df['set_type'] == 'validation']\n",
    "test_df = df[df['set_type'] == 'test']\n",
    "\n",
    "# Display the shapes of the datasets\n",
    "print(f\"Training set shape: {train_df.shape}\")\n",
    "print(f\"Validation set shape: {val_df.shape}\")\n",
    "print(f\"Test set shape: {test_df.shape}\")"
   ]
  },
  {
   "cell_type": "code",
   "execution_count": 6,
   "id": "f3f088a2-4f73-4b10-80b8-b91f94538643",
   "metadata": {},
   "outputs": [
    {
     "name": "stdout",
     "output_type": "stream",
     "text": [
      "Found 112002 validated image filenames belonging to 2 classes.\n",
      "Found 28000 validated image filenames belonging to 2 classes.\n",
      "Found 10905 validated image filenames belonging to 2 classes.\n"
     ]
    }
   ],
   "source": [
    "# 2. validation set split\n",
    "# 3. rescale to normalize \n",
    "# 4. set batch size\n",
    "from tensorflow.keras.preprocessing.image import ImageDataGenerator\n",
    "\n",
    "datagen = ImageDataGenerator(rescale=1./255, validation_split=0.2)\n",
    "test_datagen = ImageDataGenerator(rescale=1./255)\n",
    "\n",
    "train_gen = datagen.flow_from_dataframe(train_df, x_col = 'Data', y_col = 'Label', \n",
    "                                        target_size = (256, 256), class_mode = 'binary', batch_size = 64, shuffle = True, subset = 'training')\n",
    "val_gen = datagen.flow_from_dataframe(train_df, x_col = 'Data', y_col = 'Label', \n",
    "                                        target_size = (256, 256), class_mode = 'binary', batch_size = 64, shuffle = False, subset = 'validation')\n",
    "test_gen = datagen.flow_from_dataframe(test_df, x_col = 'Data', y_col = 'Label', \n",
    "                                        target_size = (256, 256), class_mode = 'binary', batch_size = 64, shuffle = False)"
   ]
  },
  {
   "cell_type": "code",
   "execution_count": 10,
   "id": "314b1f2c-9bbb-49b5-96b5-2ff075e4e681",
   "metadata": {},
   "outputs": [
    {
     "name": "stderr",
     "output_type": "stream",
     "text": [
      "C:\\Users\\HP\\AppData\\Local\\Programs\\Python\\Python312\\Lib\\site-packages\\keras\\src\\layers\\convolutional\\base_conv.py:107: UserWarning: Do not pass an `input_shape`/`input_dim` argument to a layer. When using Sequential models, prefer using an `Input(shape)` object as the first layer in the model instead.\n",
      "  super().__init__(activity_regularizer=activity_regularizer, **kwargs)\n"
     ]
    },
    {
     "data": {
      "text/html": [
       "<pre style=\"white-space:pre;overflow-x:auto;line-height:normal;font-family:Menlo,'DejaVu Sans Mono',consolas,'Courier New',monospace\"><span style=\"font-weight: bold\">Model: \"sequential\"</span>\n",
       "</pre>\n"
      ],
      "text/plain": [
       "\u001b[1mModel: \"sequential\"\u001b[0m\n"
      ]
     },
     "metadata": {},
     "output_type": "display_data"
    },
    {
     "data": {
      "text/html": [
       "<pre style=\"white-space:pre;overflow-x:auto;line-height:normal;font-family:Menlo,'DejaVu Sans Mono',consolas,'Courier New',monospace\">┏━━━━━━━━━━━━━━━━━━━━━━━━━━━━━━━━━━━━━━┳━━━━━━━━━━━━━━━━━━━━━━━━━━━━━┳━━━━━━━━━━━━━━━━━┓\n",
       "┃<span style=\"font-weight: bold\"> Layer (type)                         </span>┃<span style=\"font-weight: bold\"> Output Shape                </span>┃<span style=\"font-weight: bold\">         Param # </span>┃\n",
       "┡━━━━━━━━━━━━━━━━━━━━━━━━━━━━━━━━━━━━━━╇━━━━━━━━━━━━━━━━━━━━━━━━━━━━━╇━━━━━━━━━━━━━━━━━┩\n",
       "│ conv2d (<span style=\"color: #0087ff; text-decoration-color: #0087ff\">Conv2D</span>)                      │ (<span style=\"color: #00d7ff; text-decoration-color: #00d7ff\">None</span>, <span style=\"color: #00af00; text-decoration-color: #00af00\">254</span>, <span style=\"color: #00af00; text-decoration-color: #00af00\">254</span>, <span style=\"color: #00af00; text-decoration-color: #00af00\">32</span>)        │             <span style=\"color: #00af00; text-decoration-color: #00af00\">896</span> │\n",
       "├──────────────────────────────────────┼─────────────────────────────┼─────────────────┤\n",
       "│ max_pooling2d (<span style=\"color: #0087ff; text-decoration-color: #0087ff\">MaxPooling2D</span>)         │ (<span style=\"color: #00d7ff; text-decoration-color: #00d7ff\">None</span>, <span style=\"color: #00af00; text-decoration-color: #00af00\">127</span>, <span style=\"color: #00af00; text-decoration-color: #00af00\">127</span>, <span style=\"color: #00af00; text-decoration-color: #00af00\">32</span>)        │               <span style=\"color: #00af00; text-decoration-color: #00af00\">0</span> │\n",
       "├──────────────────────────────────────┼─────────────────────────────┼─────────────────┤\n",
       "│ dropout (<span style=\"color: #0087ff; text-decoration-color: #0087ff\">Dropout</span>)                    │ (<span style=\"color: #00d7ff; text-decoration-color: #00d7ff\">None</span>, <span style=\"color: #00af00; text-decoration-color: #00af00\">127</span>, <span style=\"color: #00af00; text-decoration-color: #00af00\">127</span>, <span style=\"color: #00af00; text-decoration-color: #00af00\">32</span>)        │               <span style=\"color: #00af00; text-decoration-color: #00af00\">0</span> │\n",
       "├──────────────────────────────────────┼─────────────────────────────┼─────────────────┤\n",
       "│ flatten (<span style=\"color: #0087ff; text-decoration-color: #0087ff\">Flatten</span>)                    │ (<span style=\"color: #00d7ff; text-decoration-color: #00d7ff\">None</span>, <span style=\"color: #00af00; text-decoration-color: #00af00\">516128</span>)              │               <span style=\"color: #00af00; text-decoration-color: #00af00\">0</span> │\n",
       "├──────────────────────────────────────┼─────────────────────────────┼─────────────────┤\n",
       "│ dense (<span style=\"color: #0087ff; text-decoration-color: #0087ff\">Dense</span>)                        │ (<span style=\"color: #00d7ff; text-decoration-color: #00d7ff\">None</span>, <span style=\"color: #00af00; text-decoration-color: #00af00\">64</span>)                  │      <span style=\"color: #00af00; text-decoration-color: #00af00\">33,032,256</span> │\n",
       "├──────────────────────────────────────┼─────────────────────────────┼─────────────────┤\n",
       "│ dense_1 (<span style=\"color: #0087ff; text-decoration-color: #0087ff\">Dense</span>)                      │ (<span style=\"color: #00d7ff; text-decoration-color: #00d7ff\">None</span>, <span style=\"color: #00af00; text-decoration-color: #00af00\">1</span>)                   │              <span style=\"color: #00af00; text-decoration-color: #00af00\">65</span> │\n",
       "└──────────────────────────────────────┴─────────────────────────────┴─────────────────┘\n",
       "</pre>\n"
      ],
      "text/plain": [
       "┏━━━━━━━━━━━━━━━━━━━━━━━━━━━━━━━━━━━━━━┳━━━━━━━━━━━━━━━━━━━━━━━━━━━━━┳━━━━━━━━━━━━━━━━━┓\n",
       "┃\u001b[1m \u001b[0m\u001b[1mLayer (type)                        \u001b[0m\u001b[1m \u001b[0m┃\u001b[1m \u001b[0m\u001b[1mOutput Shape               \u001b[0m\u001b[1m \u001b[0m┃\u001b[1m \u001b[0m\u001b[1m        Param #\u001b[0m\u001b[1m \u001b[0m┃\n",
       "┡━━━━━━━━━━━━━━━━━━━━━━━━━━━━━━━━━━━━━━╇━━━━━━━━━━━━━━━━━━━━━━━━━━━━━╇━━━━━━━━━━━━━━━━━┩\n",
       "│ conv2d (\u001b[38;5;33mConv2D\u001b[0m)                      │ (\u001b[38;5;45mNone\u001b[0m, \u001b[38;5;34m254\u001b[0m, \u001b[38;5;34m254\u001b[0m, \u001b[38;5;34m32\u001b[0m)        │             \u001b[38;5;34m896\u001b[0m │\n",
       "├──────────────────────────────────────┼─────────────────────────────┼─────────────────┤\n",
       "│ max_pooling2d (\u001b[38;5;33mMaxPooling2D\u001b[0m)         │ (\u001b[38;5;45mNone\u001b[0m, \u001b[38;5;34m127\u001b[0m, \u001b[38;5;34m127\u001b[0m, \u001b[38;5;34m32\u001b[0m)        │               \u001b[38;5;34m0\u001b[0m │\n",
       "├──────────────────────────────────────┼─────────────────────────────┼─────────────────┤\n",
       "│ dropout (\u001b[38;5;33mDropout\u001b[0m)                    │ (\u001b[38;5;45mNone\u001b[0m, \u001b[38;5;34m127\u001b[0m, \u001b[38;5;34m127\u001b[0m, \u001b[38;5;34m32\u001b[0m)        │               \u001b[38;5;34m0\u001b[0m │\n",
       "├──────────────────────────────────────┼─────────────────────────────┼─────────────────┤\n",
       "│ flatten (\u001b[38;5;33mFlatten\u001b[0m)                    │ (\u001b[38;5;45mNone\u001b[0m, \u001b[38;5;34m516128\u001b[0m)              │               \u001b[38;5;34m0\u001b[0m │\n",
       "├──────────────────────────────────────┼─────────────────────────────┼─────────────────┤\n",
       "│ dense (\u001b[38;5;33mDense\u001b[0m)                        │ (\u001b[38;5;45mNone\u001b[0m, \u001b[38;5;34m64\u001b[0m)                  │      \u001b[38;5;34m33,032,256\u001b[0m │\n",
       "├──────────────────────────────────────┼─────────────────────────────┼─────────────────┤\n",
       "│ dense_1 (\u001b[38;5;33mDense\u001b[0m)                      │ (\u001b[38;5;45mNone\u001b[0m, \u001b[38;5;34m1\u001b[0m)                   │              \u001b[38;5;34m65\u001b[0m │\n",
       "└──────────────────────────────────────┴─────────────────────────────┴─────────────────┘\n"
      ]
     },
     "metadata": {},
     "output_type": "display_data"
    },
    {
     "data": {
      "text/html": [
       "<pre style=\"white-space:pre;overflow-x:auto;line-height:normal;font-family:Menlo,'DejaVu Sans Mono',consolas,'Courier New',monospace\"><span style=\"font-weight: bold\"> Total params: </span><span style=\"color: #00af00; text-decoration-color: #00af00\">33,033,217</span> (126.01 MB)\n",
       "</pre>\n"
      ],
      "text/plain": [
       "\u001b[1m Total params: \u001b[0m\u001b[38;5;34m33,033,217\u001b[0m (126.01 MB)\n"
      ]
     },
     "metadata": {},
     "output_type": "display_data"
    },
    {
     "data": {
      "text/html": [
       "<pre style=\"white-space:pre;overflow-x:auto;line-height:normal;font-family:Menlo,'DejaVu Sans Mono',consolas,'Courier New',monospace\"><span style=\"font-weight: bold\"> Trainable params: </span><span style=\"color: #00af00; text-decoration-color: #00af00\">33,033,217</span> (126.01 MB)\n",
       "</pre>\n"
      ],
      "text/plain": [
       "\u001b[1m Trainable params: \u001b[0m\u001b[38;5;34m33,033,217\u001b[0m (126.01 MB)\n"
      ]
     },
     "metadata": {},
     "output_type": "display_data"
    },
    {
     "data": {
      "text/html": [
       "<pre style=\"white-space:pre;overflow-x:auto;line-height:normal;font-family:Menlo,'DejaVu Sans Mono',consolas,'Courier New',monospace\"><span style=\"font-weight: bold\"> Non-trainable params: </span><span style=\"color: #00af00; text-decoration-color: #00af00\">0</span> (0.00 B)\n",
       "</pre>\n"
      ],
      "text/plain": [
       "\u001b[1m Non-trainable params: \u001b[0m\u001b[38;5;34m0\u001b[0m (0.00 B)\n"
      ]
     },
     "metadata": {},
     "output_type": "display_data"
    }
   ],
   "source": [
    "#convolutional layers\n",
    "''' \n",
    "a) conv2D\n",
    "b) maxPool2D\n",
    "c) Dropout\n",
    "d) Flatten\n",
    "e) Dense\n",
    "'''\n",
    "\n",
    "#model compilation\n",
    "'''\n",
    "Optimizer = Adam optimizer\n",
    "Loss = Binary Crossentropy\n",
    "'''\n",
    "\n",
    "import tensorflow as tf\n",
    "cnn = tf.keras.models.Sequential()\n",
    "cnn.add(tf.keras.layers.Conv2D (filters=32, kernel_size=3, activation='relu', input_shape=[256, 256, 3]))\n",
    "cnn.add(tf.keras.layers.MaxPool2D (pool_size=2, strides=2))\n",
    "cnn.add(tf.keras.layers. Dropout(0.2))\n",
    "cnn.add(tf.keras.layers.Flatten())\n",
    "cnn.add(tf.keras.layers. Dense (units=64, activation='relu'))\n",
    "cnn.add(tf.keras.layers. Dense(units=1, activation='sigmoid'))\n",
    "cnn.compile(optimizer = 'adam', loss ='binary_crossentropy', metrics = ['accuracy'])\n",
    "cnn.summary()"
   ]
  },
  {
   "cell_type": "code",
   "execution_count": 17,
   "id": "e4735f39-f8fc-41fd-9504-351d4c3368ba",
   "metadata": {},
   "outputs": [],
   "source": [
    "#now I'm using transfer learning to improve the performance of my model\n",
    "\n",
    "#some pre trained models I used\n",
    "'''\n",
    "a) DenseNet121\n",
    "b) MobileNetV2\n",
    "c) InceptionV3\n",
    "d) ResNet50\n",
    "e) VGG16\n",
    "f) Xception\n",
    "'''\n",
    "\n",
    "'''\n",
    "Model Compilation \n",
    "Optimizer: Adam\n",
    "Loss: Binary CrossEntropy\n",
    "'''\n",
    "\n",
    "models = {\n",
    "    \"DenseNet121\": {\"model\": tf.keras.applications.DenseNet121, \"perf\":0}, \n",
    "    \"MobileNetV2\":{\"model\": tf.keras.applications.MobileNetV2, \"perf\":0}, \n",
    "    \"Inception V3\": {\"model\":tf.keras.applications.InceptionV3, \"perf\":0}, \n",
    "    \"ResNet50\": {\"model\": tf.keras.applications.ResNet50, \"perf\":0},\n",
    "    \"VGG16\":{\"model\":tf.keras.applications.VGG16, \"perf\":0},\n",
    "    \"Xception\": {\"model\":tf.keras.applications. Xception, \"perf\":0}\n",
    "}\n",
    "\n",
    "def get_model(model):\n",
    "    \n",
    "    kwargs={'input_shape': (224, 224, 3),\n",
    "            'include_top': False,\n",
    "            'pooling': 'avg'} \n",
    "    pretrained_model =model(**kwargs)\n",
    "    pretrained_model.trainable = False\n",
    "    inputs= pretrained_model.input\n",
    "    x= tf.keras. layers.Dense(units=64, activation ='relu')(pretrained_model.output)\n",
    "    x= tf.keras.layers.Dense(units=64, activation='relu')(x)\n",
    "    outputs= tf.keras.layers.Dense(1, activation='sigmoid')(x)\n",
    "    model= tf.keras.Model(inputs=inputs, outputs=outputs)\n",
    "    model.compile(optimizer=tf.keras.optimizers.Adam(learning_rate=0.001),\n",
    "        loss='binary_crossentropy',\n",
    "        metrics=['accuracy'])\n",
    "    return model"
   ]
  },
  {
   "cell_type": "code",
   "execution_count": 21,
   "id": "134d023b-73f5-4187-a390-fbe2a95dc90f",
   "metadata": {},
   "outputs": [
    {
     "name": "stdout",
     "output_type": "stream",
     "text": [
      "Found 112002 validated image filenames belonging to 2 classes.\n",
      "Found 28000 validated image filenames belonging to 2 classes.\n",
      "Found 10905 validated image filenames belonging to 2 classes.\n"
     ]
    }
   ],
   "source": [
    "#now I'm performing data augmentation\n",
    "#the main objectives that I cover are as follows\n",
    "'''\n",
    "\n",
    "a) Resize data to utilize  'mobile-net'\n",
    "b) Verticle flipping\n",
    "c) Image Rotation\n",
    "d) Horizontal and Vertical movement\n",
    "e) fill_mode = 'nearest'\n",
    "'''\n",
    "\n",
    "def create_gen():\n",
    "    train_generator= tf.keras.preprocessing.image.ImageDataGenerator(\n",
    "        preprocessing_function=tf.keras.applications.inception_v3.preprocess_input, \n",
    "        validation_split=0.2\n",
    "    )\n",
    "    test_generator = tf.keras.preprocessing.image.ImageDataGenerator(\n",
    "        preprocessing_function=tf.keras.applications.inception_v3.preprocess_input)\n",
    "    \n",
    "    train_image=train_generator.flow_from_dataframe(\n",
    "        dataframe=train_df, x_col=\"Data\", y_col=\"Label\", target_size=(224,224), class_mode='binary', \n",
    "        rescale=1./255, vertical_flip=True, rotation_range=45, width_shift_range=0.2, height_shift_range=0.2, \n",
    "        fill_mode=\"nearest\", subset='training', batch_size=32, shuffle=True)\n",
    "    \n",
    "    val_image=train_generator.flow_from_dataframe(\n",
    "        dataframe=train_df, x_col=\"Data\", y_col=\"Label\", target_size=(224,224), class_mode='binary', \n",
    "        rescale=1./255, vertical_flip=True, rotation_range=45, width_shift_range=0.2, height_shift_range=0.2, \n",
    "        fill_mode=\"nearest\", subset='validation', batch_size=32, shuffle=False )\n",
    "    \n",
    "    test_image =test_generator.flow_from_dataframe(\n",
    "        dataframe=test_df, x_col='Data', y_col='Label', target_size=(224,224), class_mode='binary', \n",
    "        shuffle=False, batch_size=32\n",
    "    )\n",
    "    return train_generator, test_generator, train_image, val_image, test_image\n",
    "train_generator, test_generator, train_images, val_images, test_images = create_gen()\n"
   ]
  },
  {
   "cell_type": "code",
   "execution_count": 29,
   "id": "cb54691c-ee07-4206-805f-9a83739f5045",
   "metadata": {},
   "outputs": [
    {
     "ename": "NameError",
     "evalue": "name 'nn' is not defined",
     "output_type": "error",
     "traceback": [
      "\u001b[1;31m---------------------------------------------------------------------------\u001b[0m",
      "\u001b[1;31mNameError\u001b[0m                                 Traceback (most recent call last)",
      "Cell \u001b[1;32mIn[29], line 1\u001b[0m\n\u001b[1;32m----> 1\u001b[0m \u001b[38;5;28;01mclass\u001b[39;00m \u001b[38;5;21;01mGenerator\u001b[39;00m(\u001b[43mnn\u001b[49m\u001b[38;5;241m.\u001b[39mModule):\n\u001b[0;32m      2\u001b[0m     \u001b[38;5;28;01mdef\u001b[39;00m \u001b[38;5;21m__init__\u001b[39m(\u001b[38;5;28mself\u001b[39m, ngpu):\n\u001b[0;32m      3\u001b[0m         \u001b[38;5;28msuper\u001b[39m(Generator, \u001b[38;5;28mself\u001b[39m)\u001b[38;5;241m.\u001b[39m\u001b[38;5;21m__init__\u001b[39m()\n",
      "\u001b[1;31mNameError\u001b[0m: name 'nn' is not defined"
     ]
    }
   ],
   "source": [
    "# class Generator(nn.Module):\n",
    "#     def __init__(self, ngpu):\n",
    "#         super(Generator, self).__init__()\n",
    "#         self.ngpu=ngpu\n",
    "#         self.main=nn.Sequential(\n",
    "        \n",
    "#             nn.ConvTranspose2d(nz, ngf*8, 4, 1, 8, bias=False),  \n",
    "#             nn.BatchNorm2d(ngf*8), \n",
    "#             nn.ReLU(True),\n",
    "            \n",
    "#             nn.ConvTranspose2d(ngf*8, ngf *4, 4, 2, 1, bias =False), \n",
    "#             nn.BatchNorm2d(ngf*4),\n",
    "#             nn.ReLU(True), \n",
    "            \n",
    "#             nn.ConvTranspose2d(ngf* 4, ngf* 2, 4, 2, 1, bias= False), #Transposed Conv\n",
    "#             nn.BatchNorm2d(ngf*2), \n",
    "#             nn.ReLU(True), \n",
    "        \n",
    "#             nn.ConvTranspose2d(ngf *2, ngf, 4, 2, 1, bias= False), #Transposed Conv\n",
    "#             nn.BatchNorm2d(ngf),\n",
    "#             nn.ReLU(True),\n",
    "            \n",
    "#             nn.ConvTranspose2d(ngf, nc, 4, 2, 1, bias =False), \n",
    "#             nn.Tanh() \n",
    "        \n",
    "#     )\n",
    "# class Discriminator (nn.Module):\n",
    "#     def __init__(self, ngpu):\n",
    "#         super(Discriminator, self).__init__()\n",
    "#         self.ngpu=ngpu\n",
    "#         self.main= nn.Sequential(\n",
    "        \n",
    "#             nn.Conv2d(nc, ndf, 4, 2, 1, bias =False),\n",
    "#             nn.LeakyReLU(0.2, inplace=True),\n",
    "            \n",
    "#             nn.Conv2d(ndf, ndf*2, 4, 2, 1, bias =False), \n",
    "#             nn.BatchNorm2d(ndf*2),\n",
    "#             nn.LeakyReLU(0.2, inplace=True), \n",
    "            \n",
    "#             nn.Conv2d(ndf*2, ndf* 4, 4, 2, 1, bias=False),\n",
    "#             nn.BatchNorm2d(ndf*4), \n",
    "#             nn.LeakyReLU(0.2, inplace=True),\n",
    "            \n",
    "#             nn.Conv2d(ndf*4, ndf*8, 4, 2, 1, bias=False), \n",
    "#             nn.BatchNorm2d(ndf* 8), \n",
    "#             nn.LeakyReLU(0.2, inplace=True),\n",
    "            \n",
    "#             nn.Conv2d(ndf*8, 1, 4, 1, 0, bias= False), \n",
    "#             nn.Sigmoid() \n",
    "#     )"
   ]
  },
  {
   "cell_type": "code",
   "execution_count": null,
   "id": "2bafaefc-c381-49aa-94c8-ae3ca7d27ded",
   "metadata": {},
   "outputs": [],
   "source": []
  },
  {
   "cell_type": "raw",
   "id": "1adcde53-e9e6-40b7-a4f5-10f6a6a6321a",
   "metadata": {},
   "source": []
  }
 ],
 "metadata": {
  "kernelspec": {
   "display_name": "Python 3 (ipykernel)",
   "language": "python",
   "name": "python3"
  },
  "language_info": {
   "codemirror_mode": {
    "name": "ipython",
    "version": 3
   },
   "file_extension": ".py",
   "mimetype": "text/x-python",
   "name": "python",
   "nbconvert_exporter": "python",
   "pygments_lexer": "ipython3",
   "version": "3.12.4"
  }
 },
 "nbformat": 4,
 "nbformat_minor": 5
}
